{
 "cells": [
  {
   "cell_type": "markdown",
   "metadata": {},
   "source": [
    "1. Build a neural net with a result with accuracy bigger than 90%\n",
    "2. We will use TensorFlow ith keras to build our neural net"
   ]
  },
  {
   "cell_type": "code",
   "execution_count": 35,
   "metadata": {},
   "outputs": [],
   "source": [
    "import pandas as pd \n",
    "import numpy as np \n",
    "import matplotlib.pyplot as plt\n",
    "import tensorflow as tf\n",
    "from tensorflow import keras\n",
    "from random import randint\n",
    "import sklearn.metrics as met\n",
    "import itertools\n",
    "import os\n",
    "os.environ['TF_CPP_MIN_LOG_LEVEL'] = '3'\n",
    "from sklearn.preprocessing import StandardScaler, RobustScaler\n",
    "from sklearn.model_selection import train_test_split\n",
    "from sklearn.metrics import accuracy_score, confusion_matrix, classification_report, roc_auc_score, roc_curve,recall_score"
   ]
  },
  {
   "cell_type": "markdown",
   "metadata": {},
   "source": [
    "### Importing the Data "
   ]
  },
  {
   "cell_type": "code",
   "execution_count": 23,
   "metadata": {},
   "outputs": [],
   "source": [
    "CCData=pd.read_csv(\"CC.csv\")"
   ]
  },
  {
   "cell_type": "markdown",
   "metadata": {},
   "source": [
    "### Data Exploration "
   ]
  },
  {
   "cell_type": "code",
   "execution_count": 24,
   "metadata": {},
   "outputs": [
    {
     "data": {
      "text/plain": [
       "0    284315\n",
       "1       492\n",
       "Name: Class, dtype: int64"
      ]
     },
     "execution_count": 24,
     "metadata": {},
     "output_type": "execute_result"
    },
    {
     "data": {
      "image/png": "[encoded data removed]",
      "text/plain": [
       "<Figure size 432x288 with 1 Axes>"
      ]
     },
     "metadata": {
      "needs_background": "light"
     },
     "output_type": "display_data"
    }
   ],
   "source": [
    "pd.value_counts(CCData['Class']).plot.bar()\n",
    "plt.title('Fraud Detection Classes histogram')\n",
    "plt.xlabel('Class')\n",
    "plt.ylabel('Frequency')\n",
    "CCData['Class'].value_counts()"
   ]
  },
  {
   "cell_type": "markdown",
   "metadata": {},
   "source": [
    "### Scaling"
   ]
  },
  {
   "cell_type": "code",
   "execution_count": 25,
   "metadata": {},
   "outputs": [],
   "source": [
    "std_scaler=StandardScaler()\n",
    "CCData['SAmount']=std_scaler.fit_transform(CCData['Amount'].values.reshape(-1,1))\n",
    "CCData['STime']=std_scaler.fit_transform(CCData['Time'].values.reshape(-1,1))\n",
    "CCData.drop(['Time','Amount'],axis=1,inplace=True)\n",
    "SCAmount= CCData['SAmount']\n",
    "SCTime = CCData['STime']\n",
    "CCData.drop(['SAmount', 'STime'], axis=1, inplace=True)\n",
    "CCData.insert(1, 'SAmount', SCAmount)\n",
    "CCData.insert(2, 'STime', SCTime)"
   ]
  },
  {
   "cell_type": "markdown",
   "metadata": {},
   "source": [
    "#### Separation of input variables from target variable"
   ]
  },
  {
   "cell_type": "code",
   "execution_count": 26,
   "metadata": {},
   "outputs": [],
   "source": [
    "CCFeature_names = CCData.iloc[:, 1:30].columns\n",
    "targetClass = CCData.iloc[:1, 30:].columns\n",
    "\n",
    "CCDataFeatures = CCData[CCFeature_names]\n",
    "CCData_target = CCData[targetClass]"
   ]
  },
  {
   "cell_type": "markdown",
   "metadata": {},
   "source": [
    "### Undersampling"
   ]
  },
  {
   "cell_type": "code",
   "execution_count": 27,
   "metadata": {},
   "outputs": [],
   "source": [
    "# The function \"len\" counts the number of classes = 1 and saves it as an object \"fraud_records\"\n",
    "fraud_records = len(CCData[CCData.Class == 1])\n",
    "\n",
    "# Defines the index for fraud and non-fraud in the lines:\n",
    "fraud_indices = CCData[CCData.Class == 1].index\n",
    "not_fraud_indices = CCData[CCData.Class == 0].index\n",
    "\n",
    "# Randomly collect equal samples of each type:\n",
    "under_sample_indices = np.random.choice(not_fraud_indices, fraud_records, False)\n",
    "df_undersampled = CCData.iloc[np.concatenate([fraud_indices, under_sample_indices]),:]\n",
    "X_undersampled = df_undersampled.iloc[:,1:31]\n",
    "Y_undersampled = df_undersampled.Class\n",
    "X_undersampled_train, X_undersampled_test, Y_undersampled_train, Y_undersampled_test = train_test_split(X_undersampled, Y_undersampled, test_size = 0.30)"
   ]
  },
  {
   "cell_type": "markdown",
   "metadata": {},
   "source": [
    "### Spliting the Training and Testing Datasets"
   ]
  },
  {
   "cell_type": "code",
   "execution_count": 28,
   "metadata": {},
   "outputs": [],
   "source": [
    "X_train, X_test, y_train, y_test = train_test_split(CCDataFeatures, CCData_target,train_size = 0.70, test_size = 0.30, random_state = 0)"
   ]
  },
  {
   "cell_type": "markdown",
   "metadata": {},
   "source": [
    "### Building the Artificial Neural Network Architecture"
   ]
  },
  {
   "cell_type": "code",
   "execution_count": 29,
   "metadata": {},
   "outputs": [],
   "source": [
    "from sklearn.neural_network import MLPClassifier"
   ]
  },
  {
   "cell_type": "code",
   "execution_count": 30,
   "metadata": {},
   "outputs": [
    {
     "name": "stderr",
     "output_type": "stream",
     "text": [
      "/home/weldat/anaconda3/lib/python3.8/site-packages/sklearn/utils/validation.py:63: DataConversionWarning: A column-vector y was passed when a 1d array was expected. Please change the shape of y to (n_samples, ), for example using ravel().\n",
      "  return f(*args, **kwargs)\n"
     ]
    }
   ],
   "source": [
    "MLPC = MLPClassifier(hidden_layer_sizes=(200,), max_iter=10000)\n",
    "MLPC.fit(X_train, y_train)\n",
    "y_pred = MLPC.predict(X_test)"
   ]
  },
  {
   "cell_type": "code",
   "execution_count": 31,
   "metadata": {
    "scrolled": true
   },
   "outputs": [
    {
     "name": "stdout",
     "output_type": "stream",
     "text": [
      "Evaluation Results of ANN Machine Learning Model on Skewed Data! \n",
      "Accuracy :  0.9995201479348805\n",
      "Precision :  0.9344262295081968\n",
      "F-1 Score :  0.8475836431226766\n",
      "Recall/Sensitivity/ Score :  0.7755102040816326\n",
      "Matthews Correlation Coefficient :  0.8510402597590259\n",
      "Balanced classification Rate:  0.8877082065240277\n"
     ]
    }
   ],
   "source": [
    "print(\"Evaluation Results of ANN Machine Learning Model on Skewed Data! \")\n",
    "# Accuracy\n",
    "print(\"Accuracy : \",met.accuracy_score(y_test, y_pred))\n",
    "#Precision\n",
    "print('Precision : ', met.precision_score(y_test, y_pred))\n",
    "#F-1 Score \n",
    "print('F-1 Score : ',met.f1_score(y_test, y_pred))\n",
    "\n",
    "#Recall= TP / [TP+FN] \n",
    "print('Recall/Sensitivity/ Score : ',met.recall_score(y_test,y_pred))\n",
    "\n",
    "\n",
    "#Matthews Correlation Coefficient \n",
    "print('Matthews Correlation Coefficient : ',met.matthews_corrcoef(y_test, y_pred))\n",
    "\n",
    "#Balanced classification Rate \n",
    "print('Balanced classification Rate: ',met.balanced_accuracy_score(y_test, y_pred))\n"
   ]
  },
  {
   "cell_type": "code",
   "execution_count": 32,
   "metadata": {},
   "outputs": [
    {
     "data": {
      "text/plain": [
       "<AxesSubplot:title={'center':'Confusion Matrix'}, xlabel='Predicted label', ylabel='True label'>"
      ]
     },
     "execution_count": 32,
     "metadata": {},
     "output_type": "execute_result"
    },
    {
     "data": {
      "image/png": "[encoded data removed]",
      "text/plain": [
       "<Figure size 432x288 with 2 Axes>"
      ]
     },
     "metadata": {
      "needs_background": "light"
     },
     "output_type": "display_data"
    }
   ],
   "source": [
    "import scikitplot as skplt\n",
    "skplt.metrics.plot_confusion_matrix(y_test, y_pred)"
   ]
  },
  {
   "cell_type": "markdown",
   "metadata": {},
   "source": [
    "### ANN Model using Balanced Data"
   ]
  },
  {
   "cell_type": "code",
   "execution_count": 33,
   "metadata": {},
   "outputs": [
    {
     "data": {
      "text/plain": [
       "0.9932432432432432"
      ]
     },
     "execution_count": 33,
     "metadata": {},
     "output_type": "execute_result"
    }
   ],
   "source": [
    "MLPC = MLPClassifier(hidden_layer_sizes=(200,), max_iter=10000)\n",
    "MLPC.fit(X_undersampled_train,Y_undersampled_train)\n",
    "yUnder_pred = MLPC.predict(X_undersampled_test)\n",
    "accuracy_score(Y_undersampled_test, yUnder_pred)"
   ]
  },
  {
   "cell_type": "code",
   "execution_count": 34,
   "metadata": {},
   "outputs": [
    {
     "ename": "NameError",
     "evalue": "name 'recall_score' is not defined",
     "output_type": "error",
     "traceback": [
      "\u001b[0;31m---------------------------------------------------------------------------\u001b[0m",
      "\u001b[0;31mNameError\u001b[0m                                 Traceback (most recent call last)",
      "\u001b[0;32m<ipython-input-34-a80b3ef245ca>\u001b[0m in \u001b[0;36m<module>\u001b[0;34m\u001b[0m\n\u001b[0;32m----> 1\u001b[0;31m \u001b[0mrecall_score\u001b[0m\u001b[0;34m(\u001b[0m\u001b[0mY_undersampled_test\u001b[0m\u001b[0;34m,\u001b[0m\u001b[0myUnder_pred\u001b[0m\u001b[0;34m)\u001b[0m\u001b[0;34m\u001b[0m\u001b[0;34m\u001b[0m\u001b[0m\n\u001b[0m\u001b[1;32m      2\u001b[0m \u001b[0mprint\u001b[0m\u001b[0;34m(\u001b[0m\u001b[0;34m\"Evaluation Results of ANN Machine Learning Model on Balanced Data! \"\u001b[0m\u001b[0;34m)\u001b[0m\u001b[0;34m\u001b[0m\u001b[0;34m\u001b[0m\u001b[0m\n\u001b[1;32m      3\u001b[0m \u001b[0;31m# Accuracy\u001b[0m\u001b[0;34m\u001b[0m\u001b[0;34m\u001b[0m\u001b[0;34m\u001b[0m\u001b[0m\n\u001b[1;32m      4\u001b[0m \u001b[0mprint\u001b[0m\u001b[0;34m(\u001b[0m\u001b[0;34m\"Accuracy : \"\u001b[0m\u001b[0;34m,\u001b[0m\u001b[0mmet\u001b[0m\u001b[0;34m.\u001b[0m\u001b[0maccuracy_score\u001b[0m\u001b[0;34m(\u001b[0m\u001b[0mY_undersampled_test\u001b[0m\u001b[0;34m,\u001b[0m \u001b[0myUnder_pred\u001b[0m\u001b[0;34m)\u001b[0m\u001b[0;34m)\u001b[0m\u001b[0;34m\u001b[0m\u001b[0;34m\u001b[0m\u001b[0m\n\u001b[1;32m      5\u001b[0m \u001b[0;31m#Precision\u001b[0m\u001b[0;34m\u001b[0m\u001b[0;34m\u001b[0m\u001b[0;34m\u001b[0m\u001b[0m\n",
      "\u001b[0;31mNameError\u001b[0m: name 'recall_score' is not defined"
     ]
    }
   ],
   "source": [
    "recall_score(Y_undersampled_test,yUnder_pred)\n",
    "print(\"Evaluation Results of ANN Machine Learning Model on Balanced Data! \")\n",
    "# Accuracy\n",
    "print(\"Accuracy : \",met.accuracy_score(Y_undersampled_test, yUnder_pred))\n",
    "#Precision\n",
    "print('Precision : ', met.precision_score(Y_undersampled_test, yUnder_pred))\n",
    "#F-1 Score \n",
    "print('F-1 Score : ',met.f1_score(Y_undersampled_test, yUnder_pred))\n",
    "\n",
    "#Recall= TP / [TP+FN] \n",
    "print('Recall/Sensitivity/ Score : ',met.recall_score(Y_undersampled_test, yUnder_pred))\n",
    "\n",
    "#Specificity -Similar to Recall but calculates for the Negative Score\n",
    "   # Specificity= TN / [TN+FP] \n",
    "\n",
    "#Matthews Correlation Coefficient \n",
    "print('Matthews Correlation Coefficient : ',met.matthews_corrcoef(Y_undersampled_test, yUnder_pred))\n",
    "\n",
    "#Balanced classification Rate \n",
    "print('Balanced classification Rate: ',met.balanced_accuracy_score(Y_undersampled_test, yUnder_pred))\n"
   ]
  }
 ],
 "metadata": {
  "kernelspec": {
   "display_name": "Python 3",
   "language": "python",
   "name": "python3"
  },
  "language_info": {
   "codemirror_mode": {
    "name": "ipython",
    "version": 3
   },
   "file_extension": ".py",
   "mimetype": "text/x-python",
   "name": "python",
   "nbconvert_exporter": "python",
   "pygments_lexer": "ipython3",
   "version": "3.8.8"
  }
 },
 "nbformat": 4,
 "nbformat_minor": 4
}
