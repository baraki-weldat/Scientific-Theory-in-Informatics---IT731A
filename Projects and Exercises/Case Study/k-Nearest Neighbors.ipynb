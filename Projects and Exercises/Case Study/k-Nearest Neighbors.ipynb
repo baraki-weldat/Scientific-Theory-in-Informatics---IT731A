{
 "cells": [
  {
   "cell_type": "code",
   "execution_count": 26,
   "metadata": {},
   "outputs": [],
   "source": [
    "import pandas as pd \n",
    "import numpy as np \n",
    "import matplotlib.pyplot as plt\n",
    "import tensorflow as tf\n",
    "from tensorflow import keras\n",
    "from random import randint\n",
    "from sklearn.metrics import confusion_matrix, recall_score\n",
    "from sklearn.decomposition import PCA\n",
    "import sklearn.metrics as met\n",
    "import itertools\n",
    "import os\n",
    "os.environ['TF_CPP_MIN_LOG_LEVEL'] = '3'\n",
    "from sklearn.preprocessing import StandardScaler, RobustScaler\n",
    "from sklearn.model_selection import train_test_split\n",
    "from sklearn.metrics import accuracy_score, confusion_matrix, classification_report, roc_auc_score, roc_curve\n",
    "from sklearn.neighbors import KNeighborsClassifier"
   ]
  },
  {
   "cell_type": "markdown",
   "metadata": {},
   "source": [
    "### Importing the Data "
   ]
  },
  {
   "cell_type": "code",
   "execution_count": 27,
   "metadata": {},
   "outputs": [],
   "source": [
    "CCData=pd.read_csv(\"CC.csv\")"
   ]
  },
  {
   "cell_type": "markdown",
   "metadata": {},
   "source": [
    "### Data Exploration "
   ]
  },
  {
   "cell_type": "code",
   "execution_count": 28,
   "metadata": {},
   "outputs": [
    {
     "data": {
      "text/plain": [
       "0    284315\n",
       "1       492\n",
       "Name: Class, dtype: int64"
      ]
     },
     "execution_count": 28,
     "metadata": {},
     "output_type": "execute_result"
    },
    {
     "data": {
      "image/png": "[encoded data removed]",
      "text/plain": [
       "<Figure size 432x288 with 1 Axes>"
      ]
     },
     "metadata": {
      "needs_background": "light"
     },
     "output_type": "display_data"
    }
   ],
   "source": [
    "pd.value_counts(CCData['Class']).plot.bar()\n",
    "plt.title('Fraud Detection Classes histogram')\n",
    "plt.xlabel('Class')\n",
    "plt.ylabel('Frequency')\n",
    "CCData['Class'].value_counts()"
   ]
  },
  {
   "cell_type": "markdown",
   "metadata": {},
   "source": [
    "### Scaling"
   ]
  },
  {
   "cell_type": "code",
   "execution_count": 29,
   "metadata": {},
   "outputs": [],
   "source": [
    "std_scaler=StandardScaler()\n",
    "CCData['SAmount']=std_scaler.fit_transform(CCData['Amount'].values.reshape(-1,1))\n",
    "CCData['STime']=std_scaler.fit_transform(CCData['Time'].values.reshape(-1,1))\n",
    "CCData.drop(['Time','Amount'],axis=1,inplace=True)\n",
    "SCAmount= CCData['SAmount']\n",
    "SCTime = CCData['STime']\n",
    "CCData.drop(['SAmount', 'STime'], axis=1, inplace=True)\n",
    "CCData.insert(1, 'SAmount', SCAmount)\n",
    "CCData.insert(2, 'STime', SCTime)"
   ]
  },
  {
   "cell_type": "markdown",
   "metadata": {},
   "source": [
    "#### Separation of input variables from target variable"
   ]
  },
  {
   "cell_type": "code",
   "execution_count": 30,
   "metadata": {},
   "outputs": [],
   "source": [
    "CCFeature_names = CCData.iloc[:, 1:31].columns\n",
    "targetClass = CCData.iloc[:1, 31:].columns\n",
    "\n",
    "CCDataFeatures = CCData[CCFeature_names]\n",
    "CCData_target = CCData[targetClass]"
   ]
  },
  {
   "cell_type": "markdown",
   "metadata": {},
   "source": [
    "### Undersampling"
   ]
  },
  {
   "cell_type": "code",
   "execution_count": 31,
   "metadata": {},
   "outputs": [],
   "source": [
    "# The function \"len\" counts the number of classes = 1 and saves it as an object \"fraud_records\"\n",
    "fraud_records = len(CCData[CCData.Class == 1])\n",
    "\n",
    "# Defines the index for fraud and non-fraud in the lines:\n",
    "fraud_indices = CCData[CCData.Class == 1].index\n",
    "not_fraud_indices = CCData[CCData.Class == 0].index\n",
    "\n",
    "# Randomly collect equal samples of each type:\n",
    "under_sample_indices = np.random.choice(not_fraud_indices, fraud_records, False)\n",
    "df_undersampled = CCData.iloc[np.concatenate([fraud_indices, under_sample_indices]),:]\n",
    "X_undersampled = df_undersampled.iloc[:,1:31]\n",
    "Y_undersampled = df_undersampled.Class\n",
    "X_undersampled_train, X_undersampled_test, Y_undersampled_train, Y_undersampled_test = train_test_split(X_undersampled, Y_undersampled, test_size = 0.30)"
   ]
  },
  {
   "cell_type": "markdown",
   "metadata": {},
   "source": [
    "### Spliting the Training and Testing Datasets"
   ]
  },
  {
   "cell_type": "code",
   "execution_count": 32,
   "metadata": {},
   "outputs": [],
   "source": [
    "X_train, X_test, y_train, y_test = train_test_split(CCDataFeatures, CCData_target,train_size = 0.80, test_size = 0.20, random_state = 1)"
   ]
  },
  {
   "cell_type": "markdown",
   "metadata": {},
   "source": [
    "### Building the K-Nearest Neighbor Classifier Model with the Skewed Data"
   ]
  },
  {
   "cell_type": "code",
   "execution_count": 33,
   "metadata": {},
   "outputs": [
    {
     "name": "stderr",
     "output_type": "stream",
     "text": [
      "/home/weldat/anaconda3/lib/python3.7/site-packages/ipykernel_launcher.py:5: DataConversionWarning: A column-vector y was passed when a 1d array was expected. Please change the shape of y to (n_samples, ), for example using ravel().\n",
      "  \"\"\"\n"
     ]
    }
   ],
   "source": [
    "#KNeighborsClassifier\n",
    "knn = KNeighborsClassifier(n_neighbors = 5,n_jobs=16)\n",
    "pca= PCA()\n",
    "X_train_knn = pd.DataFrame(pca.fit_transform(X_train))\n",
    "knn.fit=knn.fit(X_train, y_train)\n",
    "y_pred = pd.DataFrame(knn.predict(X_test))"
   ]
  },
  {
   "cell_type": "code",
   "execution_count": 34,
   "metadata": {
    "scrolled": true
   },
   "outputs": [
    {
     "name": "stdout",
     "output_type": "stream",
     "text": [
      "Evaluation Results of Decision Tree Classifier on the Skewed Data! \n",
      "Accuracy :  0.9994382219725431\n",
      "Precision :  0.8985507246376812\n",
      "F-1 Score :  0.7948717948717949\n",
      "Recall/Sensitivity/ Score :  0.7126436781609196\n",
      "Matthews Correlation Coefficient :  0.7999517521593619\n",
      "Balanced classification Rate:  0.8562603006189213\n"
     ]
    }
   ],
   "source": [
    "print(\"Evaluation Results of Decision Tree Classifier on the Skewed Data! \")\n",
    "# Accuracy\n",
    "print(\"Accuracy : \",met.accuracy_score(y_test, y_pred))\n",
    "#Precision\n",
    "print('Precision : ', met.precision_score(y_test, y_pred))\n",
    "#F-1 Score \n",
    "print('F-1 Score : ',met.f1_score(y_test, y_pred))\n",
    "\n",
    "#Recall= TP / [TP+FN] \n",
    "print('Recall/Sensitivity/ Score : ',met.recall_score(y_test,y_pred))\n",
    "\n",
    "\n",
    "#Matthews Correlation Coefficient \n",
    "print('Matthews Correlation Coefficient : ',met.matthews_corrcoef(y_test, y_pred))\n",
    "\n",
    "#Balanced classification Rate \n",
    "print('Balanced classification Rate: ',met.balanced_accuracy_score(y_test, y_pred))"
   ]
  },
  {
   "cell_type": "markdown",
   "metadata": {},
   "source": [
    "### Building the Decision Tree Classifier Model with Balanced Data"
   ]
  },
  {
   "cell_type": "code",
   "execution_count": 35,
   "metadata": {},
   "outputs": [],
   "source": [
    "#KNeighborsClassifier\n",
    "knn = KNeighborsClassifier(n_neighbors = 5,n_jobs=16)\n",
    "pca= PCA()\n",
    "X_Utrain_knn = pd.DataFrame(pca.fit_transform(X_undersampled_train))\n",
    "knn.fit=knn.fit(X_undersampled_train, Y_undersampled_train)\n",
    "yUnder_pred = pd.DataFrame(knn.predict(X_undersampled_test))"
   ]
  },
  {
   "cell_type": "code",
   "execution_count": 36,
   "metadata": {},
   "outputs": [
    {
     "name": "stdout",
     "output_type": "stream",
     "text": [
      "Evaluation Results of Decision Tree Classifier Machine Learning Model on Balanced Data! \n",
      "Accuracy :  0.9358108108108109\n",
      "Precision :  0.9716312056737588\n",
      "F-1 Score :  0.9351535836177474\n",
      "Recall/Sensitivity/ Score :  0.9013157894736842\n",
      "Matthews Correlation Coefficient :  0.8741972631450059\n",
      "Balanced classification Rate:  0.9367690058479532\n"
     ]
    }
   ],
   "source": [
    "print(\"Evaluation Results of Decision Tree Classifier Machine Learning Model on Balanced Data! \")\n",
    "# Accuracy\n",
    "print(\"Accuracy : \",met.accuracy_score(Y_undersampled_test, yUnder_pred))\n",
    "#Precision\n",
    "print('Precision : ', met.precision_score(Y_undersampled_test, yUnder_pred))\n",
    "#F-1 Score \n",
    "print('F-1 Score : ',met.f1_score(Y_undersampled_test, yUnder_pred))\n",
    "\n",
    "#Recall= TP / [TP+FN] \n",
    "print('Recall/Sensitivity/ Score : ',met.recall_score(Y_undersampled_test, yUnder_pred))\n",
    "\n",
    "#Specificity -Similar to Recall but calculates for the Negative Score\n",
    "   # Specificity= TN / [TN+FP] \n",
    "\n",
    "\n",
    "#Matthews Correlation Coefficient \n",
    "print('Matthews Correlation Coefficient : ',met.matthews_corrcoef(Y_undersampled_test, yUnder_pred))\n",
    "\n",
    "#Balanced classification Rate \n",
    "print('Balanced classification Rate: ',met.balanced_accuracy_score(Y_undersampled_test, yUnder_pred))\n"
   ]
  },
  {
   "cell_type": "code",
   "execution_count": null,
   "metadata": {},
   "outputs": [],
   "source": []
  },
  {
   "cell_type": "code",
   "execution_count": null,
   "metadata": {},
   "outputs": [],
   "source": []
  },
  {
   "cell_type": "code",
   "execution_count": null,
   "metadata": {},
   "outputs": [],
   "source": []
  },
  {
   "cell_type": "code",
   "execution_count": null,
   "metadata": {},
   "outputs": [],
   "source": []
  }
 ],
 "metadata": {
  "kernelspec": {
   "display_name": "Python 3",
   "language": "python",
   "name": "python3"
  },
  "language_info": {
   "codemirror_mode": {
    "name": "ipython",
    "version": 3
   },
   "file_extension": ".py",
   "mimetype": "text/x-python",
   "name": "python",
   "nbconvert_exporter": "python",
   "pygments_lexer": "ipython3",
   "version": "3.7.9"
  }
 },
 "nbformat": 4,
 "nbformat_minor": 4
}
